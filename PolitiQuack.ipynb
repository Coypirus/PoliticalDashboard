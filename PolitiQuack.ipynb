{
  "nbformat": 4,
  "nbformat_minor": 0,
  "metadata": {
    "colab": {
      "name": "PolitiQuack.ipynb",
      "provenance": [],
      "include_colab_link": true
    },
    "kernelspec": {
      "name": "python3",
      "display_name": "Python 3"
    },
    "accelerator": "GPU"
  },
  "cells": [
    {
      "cell_type": "markdown",
      "metadata": {
        "id": "view-in-github",
        "colab_type": "text"
      },
      "source": [
        "<a href=\"https://colab.research.google.com/github/Coypirus/PoliticalDashboard/blob/master/PolitiQuack.ipynb\" target=\"_parent\"><img src=\"https://colab.research.google.com/assets/colab-badge.svg\" alt=\"Open In Colab\"/></a>"
      ]
    },
    {
      "cell_type": "code",
      "metadata": {
        "id": "VervDuzGJwbD",
        "colab_type": "code",
        "colab": {}
      },
      "source": [
        "##Peter\n",
        "import json\n",
        "import numpy as np\n",
        "import pandas as pd\n",
        "import tensorflow as tf\n",
        "from tensorflow.keras.preprocessing.text import Tokenizer\n",
        "from tensorflow.keras.preprocessing.sequence import pad_sequences"
      ],
      "execution_count": null,
      "outputs": []
    },
    {
      "cell_type": "code",
      "metadata": {
        "id": "ffWOuauaKzR_",
        "colab_type": "code",
        "colab": {}
      },
      "source": [
        "##Peter\n",
        "VOCAB_SIZE = 100000\n",
        "EMBEDDING_DIM = 16\n",
        "MAX_LENGTH = 200\n",
        "TRUNC_TYPE='post'\n",
        "PADDING_TYPE='post'\n",
        "OOV_TOK = \"<OOV>\" #Out Of Vocabulary Handling\n",
        "TRAIN_SIZE = 18000\n"
      ],
      "execution_count": null,
      "outputs": []
    },
    {
      "cell_type": "code",
      "metadata": {
        "id": "rve7mQQdLUJ_",
        "colab_type": "code",
        "colab": {
          "base_uri": "https://localhost:8080/",
          "height": 202
        },
        "outputId": "35977a89-eec7-4701-e6b9-315fb2cb4fa9"
      },
      "source": [
        "##Maybe Peter\n",
        "!wget --no-check-certificate \\\n",
        "    https://raw.githubusercontent.com/Coypirus/PoliticalDashboard/master/fake_news_json.json \\\n",
        "    -O /tmp/fake_news_json.json\n",
        "\n",
        "    "
      ],
      "execution_count": null,
      "outputs": [
        {
          "output_type": "stream",
          "text": [
            "--2020-09-12 19:43:13--  https://raw.githubusercontent.com/Coypirus/PoliticalDashboard/master/fake_news_json.json\n",
            "Resolving raw.githubusercontent.com (raw.githubusercontent.com)... 151.101.0.133, 151.101.64.133, 151.101.128.133, ...\n",
            "Connecting to raw.githubusercontent.com (raw.githubusercontent.com)|151.101.0.133|:443... connected.\n",
            "HTTP request sent, awaiting response... 200 OK\n",
            "Length: 2378064 (2.3M) [text/plain]\n",
            "Saving to: ‘/tmp/fake_news_json.json’\n",
            "\n",
            "/tmp/fake_news_json 100%[===================>]   2.27M  --.-KB/s    in 0.07s   \n",
            "\n",
            "2020-09-12 19:43:13 (32.4 MB/s) - ‘/tmp/fake_news_json.json’ saved [2378064/2378064]\n",
            "\n"
          ],
          "name": "stdout"
        }
      ]
    },
    {
      "cell_type": "code",
      "metadata": {
        "id": "_AO8d3M5MAHS",
        "colab_type": "code",
        "colab": {}
      },
      "source": [
        "##Peter\n",
        "with open(\"/tmp/fake_news_json.json\", 'r') as filename:\n",
        "    data_store = json.load(filename)\n",
        "\n",
        "sentences = []\n",
        "labels = []\n",
        "\n",
        "for item in data_store:\n",
        "    sentences.append(item['field_0'])##insert json keys here\n",
        "    labels.append(item['field_1'])\n",
        "\n",
        "\n",
        "\n"
      ],
      "execution_count": null,
      "outputs": []
    },
    {
      "cell_type": "code",
      "metadata": {
        "id": "uy96I9wQi49U",
        "colab_type": "code",
        "colab": {}
      },
      "source": [
        "##Peter\n",
        "train_sentences = sentences[0:TRAIN_SIZE]\n",
        "test_sentences = sentences[TRAIN_SIZE:]\n",
        "train_labels = labels[0:TRAIN_SIZE]\n",
        "test_labels = labels[TRAIN_SIZE:]"
      ],
      "execution_count": null,
      "outputs": []
    },
    {
      "cell_type": "code",
      "metadata": {
        "id": "YV9w8NUMPcw2",
        "colab_type": "code",
        "colab": {}
      },
      "source": [
        "##Peter\n",
        "##Assign Tokens for the words, and convert the sentences to token sequences.\n",
        "tokenizer = Tokenizer(num_words=VOCAB_SIZE, oov_token=OOV_TOK)\n",
        "tokenizer.fit_on_texts(train_sentences)\n",
        "\n",
        "wordIndex = tokenizer.word_index\n",
        "\n",
        "train_sequences = tokenizer.texts_to_sequences(train_sentences)\n",
        "train_padded = pad_sequences(train_sequences, maxlen=MAX_LENGTH, padding=PADDING_TYPE, truncating=TRUNC_TYPE)\n",
        "\n",
        "test_sequences = tokenizer.texts_to_sequences(test_sentences)\n",
        "test_padded = pad_sequences(test_sequences, maxlen=MAX_LENGTH, padding=PADDING_TYPE, truncating=TRUNC_TYPE)"
      ],
      "execution_count": null,
      "outputs": []
    },
    {
      "cell_type": "code",
      "metadata": {
        "id": "HJ4v4XJBnGxq",
        "colab_type": "code",
        "colab": {}
      },
      "source": [
        "#Convert to ndarrays\n",
        "train_padded = np.array(train_padded)\n",
        "train_labels = np.array(train_labels)\n",
        " \n",
        "test_padded = np.array(test_padded)\n",
        "test_labels = np.array(test_labels)\n",
        "\n"
      ],
      "execution_count": null,
      "outputs": []
    },
    {
      "cell_type": "code",
      "metadata": {
        "id": "WB6oGNi1wLzL",
        "colab_type": "code",
        "colab": {
          "base_uri": "https://localhost:8080/",
          "height": 87
        },
        "outputId": "2129d0c5-422d-47af-fa4a-f4b689e79f0e"
      },
      "source": [
        "###Checking our conversions : Sourced from Laurence Moroney's TF course.\n",
        "reverse_word_index = dict([(value, key) for (key, value) in wordIndex.items()])\n",
        "\n",
        "def decode_sentence(text):\n",
        "    return ' '.join([reverse_word_index.get(i, '?') for i in text])\n",
        "\n",
        "print(decode_sentence(train_padded[0]))\n",
        "print(train_sentences[0])\n",
        "print(labels[0])"
      ],
      "execution_count": null,
      "outputs": [
        {
          "output_type": "stream",
          "text": [
            "reince priebus does weird balancing act regarding trump’s ‘rigged election’ talk ? ? ? ? ? ? ? ? ? ? ? ? ? ? ? ? ? ? ? ? ? ? ? ? ? ? ? ? ? ? ? ? ? ? ? ? ? ? ? ? ? ? ? ? ? ? ? ? ? ? ? ? ? ? ? ? ? ? ? ? ? ? ? ? ? ? ? ? ? ? ? ? ? ? ? ? ? ? ? ? ? ? ? ? ? ? ? ? ? ? ? ? ? ? ? ? ? ? ? ? ? ? ? ? ? ? ? ? ? ? ? ? ? ? ? ? ? ? ? ? ? ? ? ? ? ? ? ? ? ? ? ? ? ? ? ? ? ? ? ? ? ? ? ? ? ? ? ? ? ? ? ? ? ? ? ? ? ? ? ? ? ? ? ? ? ? ? ? ? ? ? ? ? ? ? ? ? ? ? ? ? ? ? ? ? ? ? ? ?\n",
            " Reince Priebus Does WEIRD Balancing Act Regarding Trump’s ‘Rigged Election’ Talk\n",
            "1\n"
          ],
          "name": "stdout"
        }
      ]
    },
    {
      "cell_type": "code",
      "metadata": {
        "id": "DqyJjIp5nuXL",
        "colab_type": "code",
        "colab": {
          "base_uri": "https://localhost:8080/",
          "height": 286
        },
        "outputId": "6387cee8-230f-49c6-be1f-d72ed35871c8"
      },
      "source": [
        "##The Neural Net Architechture\n",
        "quacker = tf.keras.Sequential([\n",
        "    tf.keras.layers.Embedding(VOCAB_SIZE, EMBEDDING_DIM, input_length=MAX_LENGTH),\n",
        "    tf.keras.layers.GlobalAveragePooling1D(),\n",
        "    tf.keras.layers.Dense(30, activation='relu'),\n",
        "    tf.keras.layers.Dense(1, activation='sigmoid') #Activation test needed: Softmax vs Sigmoid\n",
        "])\n",
        "quacker.compile(loss='binary_crossentropy',optimizer='adam',metrics=['accuracy'])\n",
        "quacker.summary()##Only for dev stages"
      ],
      "execution_count": null,
      "outputs": [
        {
          "output_type": "stream",
          "text": [
            "Model: \"sequential_1\"\n",
            "_________________________________________________________________\n",
            "Layer (type)                 Output Shape              Param #   \n",
            "=================================================================\n",
            "embedding_1 (Embedding)      (None, 200, 16)           1600000   \n",
            "_________________________________________________________________\n",
            "global_average_pooling1d_1 ( (None, 16)                0         \n",
            "_________________________________________________________________\n",
            "dense_2 (Dense)              (None, 30)                510       \n",
            "_________________________________________________________________\n",
            "dense_3 (Dense)              (None, 1)                 31        \n",
            "=================================================================\n",
            "Total params: 1,600,541\n",
            "Trainable params: 1,600,541\n",
            "Non-trainable params: 0\n",
            "_________________________________________________________________\n"
          ],
          "name": "stdout"
        }
      ]
    },
    {
      "cell_type": "code",
      "metadata": {
        "id": "-DaHOu5kpDeY",
        "colab_type": "code",
        "colab": {}
      },
      "source": [
        "class QuackCallback(tf.keras.callbacks.Callback):\n",
        "  def on_epoch_end(self, epoch, logs={}):\n",
        "    if(logs.get('accuracy')>0.87):\n",
        "      print(\"\\nReached 93% accuracy so cancelling training!\")\n",
        "      self.model.stop_training = True\n",
        "\n",
        "callbacks = QuackCallback()"
      ],
      "execution_count": null,
      "outputs": []
    },
    {
      "cell_type": "code",
      "metadata": {
        "id": "tgWcblTTqf5z",
        "colab_type": "code",
        "colab": {}
      },
      "source": [
        "NUM_EPOCHS = 30##Possibly change this"
      ],
      "execution_count": null,
      "outputs": []
    },
    {
      "cell_type": "code",
      "metadata": {
        "id": "PVS4V47wqx77",
        "colab_type": "code",
        "colab": {
          "base_uri": "https://localhost:8080/",
          "height": 118
        },
        "outputId": "3fabec59-c533-4999-94d9-e830d3b6e7f1"
      },
      "source": [
        "##Fit the model to training data\n",
        "history = quacker.fit(train_padded, train_labels, epochs=NUM_EPOCHS, validation_data=(test_padded, test_labels), verbose=2, callbacks = [callbacks] )"
      ],
      "execution_count": null,
      "outputs": [
        {
          "output_type": "stream",
          "text": [
            "Epoch 1/30\n",
            "563/563 - 7s - loss: 0.6010 - accuracy: 0.7647 - val_loss: 0.3614 - val_accuracy: 0.9295\n",
            "Epoch 2/30\n",
            "\n",
            "Reached 93% accuracy so cancelling training!\n",
            "563/563 - 7s - loss: 0.2073 - accuracy: 0.9467 - val_loss: 0.1658 - val_accuracy: 0.9422\n"
          ],
          "name": "stdout"
        }
      ]
    },
    {
      "cell_type": "code",
      "metadata": {
        "id": "3gNyC3Eq4rzJ",
        "colab_type": "code",
        "colab": {
          "base_uri": "https://localhost:8080/",
          "height": 541
        },
        "outputId": "c0bec6ba-8d95-468e-8616-87349844fd88"
      },
      "source": [
        "##Visualization of Eval Metrics\n",
        "##Source Laurence Moroney's TF Course\n",
        "import matplotlib.pyplot as plt\n",
        "\n",
        "\n",
        "def plot_graphs(history, string):\n",
        "  plt.plot(history.history[string])\n",
        "  plt.plot(history.history['val_'+string])\n",
        "  plt.xlabel(\"Epochs\")\n",
        "  plt.ylabel(string)\n",
        "  plt.legend([string, 'val_'+string])\n",
        "  plt.show()\n",
        "  \n",
        "plot_graphs(history, \"accuracy\")\n",
        "plot_graphs(history, \"loss\")"
      ],
      "execution_count": null,
      "outputs": [
        {
          "output_type": "display_data",
          "data": {
            "image/png": "[encoded data removed]",
            "text/plain": [
              "<Figure size 432x288 with 1 Axes>"
            ]
          },
          "metadata": {
            "tags": [],
            "needs_background": "light"
          }
        },
        {
          "output_type": "display_data",
          "data": {
            "image/png": "[encoded data removed]",
            "text/plain": [
              "<Figure size 432x288 with 1 Axes>"
            ]
          },
          "metadata": {
            "tags": [],
            "needs_background": "light"
          }
        }
      ]
    },
    {
      "cell_type": "code",
      "metadata": {
        "id": "wBp0hbgrDw2p",
        "colab_type": "code",
        "colab": {}
      },
      "source": [
        "quacker.save('FakeDetection.h5') "
      ],
      "execution_count": null,
      "outputs": []
    },
    {
      "cell_type": "code",
      "metadata": {
        "id": "7Ffjj6gY5UG1",
        "colab_type": "code",
        "colab": {
          "base_uri": "https://localhost:8080/",
          "height": 50
        },
        "outputId": "d574ca94-d212-4744-c4d2-a11cf5d58ce2"
      },
      "source": [
        "##The Actual Thing.\n",
        "# sentences = input()\n",
        "\n",
        "##Peter\n",
        "fake_detection = input()\n",
        "sentence = []\n",
        "sentence.append(fake_detection)\n",
        "sentence = np.array(sentence, dtype = str)\n",
        "sequences = tokenizer.texts_to_sequences(sentence)\n",
        "padded = pad_sequences(sequences, maxlen=MAX_LENGTH, padding=PADDING_TYPE, truncating=TRUNC_TYPE)\n",
        "\n",
        "print(quacker.predict(padded))"
      ],
      "execution_count": null,
      "outputs": [
        {
          "output_type": "stream",
          "text": [
            "Relaying bogus charges from account that is suspended\n",
            "[[0.8609023]]\n"
          ],
          "name": "stdout"
        }
      ]
    },
    {
      "cell_type": "code",
      "metadata": {
        "id": "GdZ5SIpqdF-X",
        "colab_type": "code",
        "colab": {}
      },
      "source": [
        ""
      ],
      "execution_count": null,
      "outputs": []
    },
    {
      "cell_type": "code",
      "metadata": {
        "id": "MHNTBP-C0yi4",
        "colab_type": "code",
        "colab": {
          "base_uri": "https://localhost:8080/",
          "height": 229
        },
        "outputId": "d67309ff-014b-470e-9ed3-9142aee196e9"
      },
      "source": [
        "## Full Page Evaluation\n",
        "\n",
        "# Finding Mean\n",
        "length = len(vals)\n",
        "total = 0.0;\n",
        "for val in vals:\n",
        "  total += val\n",
        "\n",
        "mean = total/length\n",
        "\n",
        "# Finding Mode\n",
        "\n",
        "bad = 0;\n",
        "good = 0;\n",
        "\n",
        "for val in vals:\n",
        "  if (round(val)==0):\n",
        "    bad+=1\n",
        "  else:\n",
        "    good+=1\n",
        "\n",
        "if (good>bad):\n",
        "  mode = 1\n",
        "else:\n",
        "  mode = 0;\n",
        "\n",
        "verdict = 0\n",
        "\n",
        "if (round(mean)==1):\n",
        "  if (mode==1):\n",
        "    verdict = 1\n",
        "\n",
        "print(verdict)\n",
        "\n"
      ],
      "execution_count": null,
      "outputs": [
        {
          "output_type": "error",
          "ename": "TypeError",
          "evalue": "ignored",
          "traceback": [
            "\u001b[0;31m---------------------------------------------------------------------------\u001b[0m",
            "\u001b[0;31mTypeError\u001b[0m                                 Traceback (most recent call last)",
            "\u001b[0;32m<ipython-input-16-586918a73f97>\u001b[0m in \u001b[0;36m<module>\u001b[0;34m()\u001b[0m\n\u001b[1;32m     15\u001b[0m \u001b[0;34m\u001b[0m\u001b[0m\n\u001b[1;32m     16\u001b[0m \u001b[0;32mfor\u001b[0m \u001b[0mval\u001b[0m \u001b[0;32min\u001b[0m \u001b[0mvals\u001b[0m\u001b[0;34m:\u001b[0m\u001b[0;34m\u001b[0m\u001b[0;34m\u001b[0m\u001b[0m\n\u001b[0;32m---> 17\u001b[0;31m   \u001b[0;32mif\u001b[0m \u001b[0;34m(\u001b[0m\u001b[0mround\u001b[0m\u001b[0;34m(\u001b[0m\u001b[0mval\u001b[0m\u001b[0;34m)\u001b[0m\u001b[0;34m==\u001b[0m\u001b[0;36m0\u001b[0m\u001b[0;34m)\u001b[0m\u001b[0;34m:\u001b[0m\u001b[0;34m\u001b[0m\u001b[0;34m\u001b[0m\u001b[0m\n\u001b[0m\u001b[1;32m     18\u001b[0m     \u001b[0mbad\u001b[0m\u001b[0;34m+=\u001b[0m\u001b[0;36m1\u001b[0m\u001b[0;34m\u001b[0m\u001b[0;34m\u001b[0m\u001b[0m\n\u001b[1;32m     19\u001b[0m   \u001b[0;32melse\u001b[0m\u001b[0;34m:\u001b[0m\u001b[0;34m\u001b[0m\u001b[0;34m\u001b[0m\u001b[0m\n",
            "\u001b[0;31mTypeError\u001b[0m: type numpy.ndarray doesn't define __round__ method"
          ]
        }
      ]
    },
    {
      "cell_type": "code",
      "metadata": {
        "id": "QNwXfjWkdImD",
        "colab_type": "code",
        "colab": {}
      },
      "source": [
        "##Peter's Function Code\n",
        "import json\n",
        "import numpy as np\n",
        "import pandas as pd\n",
        "import tensorflow as tf\n",
        "from tensorflow.keras.preprocessing.text import Tokenizer\n",
        "from tensorflow.keras.preprocessing.sequence import pad_sequences\n",
        "VOCAB_SIZE = 10000\n",
        "EMBEDDING_DIM = 16\n",
        "MAX_LENGTH = 200\n",
        "TRUNC_TYPE='post'\n",
        "PADDING_TYPE='post'\n",
        "OOV_TOK = \"<OOV>\" #Out Of Vocabulary Handling\n",
        "TRAIN_SIZE = 17000\n",
        "text_df = pd.read_json(\"https://raw.githubusercontent.com/Coypirus/PoliticalDashboard/master/fake_news_json.json\")\n",
        "text_df = text_df.drop(['field_1'], axis = 1)\n",
        "\n",
        "numpy_texts = text_df.to_numpy()\n",
        "text_list = numpy_texts.tolist()\n",
        "\n",
        "\n",
        "\n",
        "text_list = text_list[0:TRAIN_SIZE]\n",
        "tokenizer = Tokenizer(num_words=VOCAB_SIZE, oov_token=OOV_TOK)\n",
        "tokenizer.fit_on_texts(text_list)\n",
        "\n",
        "wordIndex = tokenizer.word_index\n",
        "\n",
        "def list_sequencer(str_list):\n",
        "  sequences = tokenizer.texts_to_sequences(str_list)\n",
        "  padded = pad_sequences(sequences, maxlen=MAX_LENGTH, padding=PADDING_TYPE, truncating=TRUNC_TYPE)\n",
        "  return padded\n",
        "\n",
        "\n",
        "\n",
        "\n",
        "\n"
      ],
      "execution_count": null,
      "outputs": []
    },
    {
      "cell_type": "code",
      "metadata": {
        "id": "lTUjuSrtoE0l",
        "colab_type": "code",
        "colab": {}
      },
      "source": [
        "sentence_predictions = []\n",
        "\n",
        "for i in range(0,len(vals)):\n",
        "  if(vals[i]>=0.83):\n",
        "    sentence_predictions.append(1)\n",
        "  else:\n",
        "    sentence_predictions.append(0)\n",
        "\n",
        "final_preds = np.array(senetence_predictions)\n",
        "\n",
        "\n",
        "bad = 0;\n",
        "good = 0;\n",
        "\n",
        "for val in final_preds:\n",
        "  if (val==0):\n",
        "    bad+=1\n",
        "  else:\n",
        "    good+=1\n",
        "\n",
        "if (good>bad):\n",
        "  ##Output as fake news\n",
        "else:\n",
        "  ##Output is not fake news\n",
        "\n",
        "\n",
        "\n",
        "\n",
        "\n"
      ],
      "execution_count": null,
      "outputs": []
    }
  ]
}